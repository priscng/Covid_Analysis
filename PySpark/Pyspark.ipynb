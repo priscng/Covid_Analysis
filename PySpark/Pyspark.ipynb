{
 "cells": [
  {
   "cell_type": "markdown",
   "id": "3a1ddc07",
   "metadata": {},
   "source": [
    "# Build ETL pipeline with PySpark"
   ]
  },
  {
   "cell_type": "markdown",
   "id": "5c40f392",
   "metadata": {},
   "source": [
    "PySpark is an interface for Apache Spark in Python. It allows you to write Spark applications using Python APIs, and also provides the PySpark shell for interactively analyzing your data in a distributed environment. PySpark supports most of Spark’s features such as Spark SQL, DataFrame, Streaming, MLlib (Machine Learning) and Spark Core.\n",
    "\n",
    "Refer to this [link](https://spark.apache.org/docs/latest/api/python/) for PySpark Documentation.\n",
    "\n",
    "The objective for this task is to build an ETL pipeline using PySpark. In this notebook, we will:\n",
    "\n",
    "- Setup a PySpark development environment\n",
    "- Read data from flat files into Dataframe\n",
    "- Perform DataFrame operations using Pandas API on Spark\n",
    "- Use Spark-SQL to query the dataset\n",
    "- Persist DataFrame to a PostgreSQL database\n",
    "\n",
    "[Reference](https://blog.devgenius.io/setup-pyspark-locally-build-your-first-etl-pipeline-with-pyspark-91c3060c6133)"
   ]
  },
  {
   "cell_type": "markdown",
   "id": "64451dbe",
   "metadata": {},
   "source": [
    "### Install Pyspark"
   ]
  },
  {
   "cell_type": "code",
   "execution_count": 2,
   "id": "6b70a63c",
   "metadata": {
    "ExecuteTime": {
     "end_time": "2022-10-13T07:01:30.460711Z",
     "start_time": "2022-10-13T07:01:30.448695Z"
    }
   },
   "outputs": [],
   "source": [
    "#!pip install pyspark"
   ]
  },
  {
   "cell_type": "markdown",
   "id": "e9cb4e55",
   "metadata": {},
   "source": [
    "### Import libraries"
   ]
  },
  {
   "cell_type": "code",
   "execution_count": 3,
   "id": "2bf6eb76",
   "metadata": {
    "ExecuteTime": {
     "end_time": "2022-10-13T07:01:32.067245Z",
     "start_time": "2022-10-13T07:01:31.459910Z"
    }
   },
   "outputs": [],
   "source": [
    "from pyspark import SparkContext, SparkConf\n",
    "from pyspark.sql import SparkSession, SQLContext\n",
    "import os"
   ]
  },
  {
   "cell_type": "markdown",
   "id": "5ab8b9f1",
   "metadata": {},
   "source": [
    "### Set Java home"
   ]
  },
  {
   "cell_type": "code",
   "execution_count": 4,
   "id": "df4b84bd",
   "metadata": {
    "ExecuteTime": {
     "end_time": "2022-10-13T07:01:33.079028Z",
     "start_time": "2022-10-13T07:01:33.074026Z"
    }
   },
   "outputs": [],
   "source": [
    "# set Java home\n",
    "os.environ[\"JAVA_HOME\"] = \"C:\\Program Files\\Java\\jdk-18.0.2.1\""
   ]
  },
  {
   "cell_type": "markdown",
   "id": "6ec11b80",
   "metadata": {},
   "source": [
    "### Initiate Spark Context"
   ]
  },
  {
   "cell_type": "code",
   "execution_count": 5,
   "id": "6296dc8a",
   "metadata": {
    "ExecuteTime": {
     "end_time": "2022-10-13T07:01:34.329136Z",
     "start_time": "2022-10-13T07:01:34.321149Z"
    }
   },
   "outputs": [],
   "source": [
    "conf = SparkConf() \\\n",
    "    .setAppName(\"Example\") \\\n",
    "    .setMaster(\"local\") \\\n",
    "    .set(\"spark.driver.extraClassPath\",\"C:/pyspark/*\")"
   ]
  },
  {
   "cell_type": "code",
   "execution_count": 6,
   "id": "1f313606",
   "metadata": {
    "ExecuteTime": {
     "end_time": "2022-10-13T07:01:39.776017Z",
     "start_time": "2022-10-13T07:01:34.890690Z"
    }
   },
   "outputs": [],
   "source": [
    "sc = SparkContext.getOrCreate(conf=conf)\n",
    "spark = SparkSession(sc)"
   ]
  },
  {
   "cell_type": "code",
   "execution_count": 7,
   "id": "055bb7cb",
   "metadata": {
    "ExecuteTime": {
     "end_time": "2022-10-13T07:01:40.536680Z",
     "start_time": "2022-10-13T07:01:39.778020Z"
    }
   },
   "outputs": [
    {
     "data": {
      "text/html": [
       "\n",
       "            <div>\n",
       "                <p><b>SparkSession - in-memory</b></p>\n",
       "                \n",
       "        <div>\n",
       "            <p><b>SparkContext</b></p>\n",
       "\n",
       "            <p><a href=\"http://LAPTOP-TOPO6K3L:4040\">Spark UI</a></p>\n",
       "\n",
       "            <dl>\n",
       "              <dt>Version</dt>\n",
       "                <dd><code>v3.3.0</code></dd>\n",
       "              <dt>Master</dt>\n",
       "                <dd><code>local</code></dd>\n",
       "              <dt>AppName</dt>\n",
       "                <dd><code>Example</code></dd>\n",
       "            </dl>\n",
       "        </div>\n",
       "        \n",
       "            </div>\n",
       "        "
      ],
      "text/plain": [
       "<pyspark.sql.session.SparkSession at 0x296b9365f70>"
      ]
     },
     "execution_count": 7,
     "metadata": {},
     "output_type": "execute_result"
    }
   ],
   "source": [
    "spark"
   ]
  },
  {
   "cell_type": "markdown",
   "id": "c9ea1bcf",
   "metadata": {},
   "source": [
    "### Read CSV File"
   ]
  },
  {
   "cell_type": "code",
   "execution_count": 8,
   "id": "bedc3c1b",
   "metadata": {
    "ExecuteTime": {
     "end_time": "2022-10-13T07:01:44.677283Z",
     "start_time": "2022-10-13T07:01:40.537681Z"
    },
    "scrolled": true
   },
   "outputs": [
    {
     "name": "stdout",
     "output_type": "stream",
     "text": [
      "+--------+---------+-----------+----------+-----------+---------+------------------+------------+----------+-------------------+-----------------------+---------------------+------------------------------+------------------------+----------------------+-------------------------------+-----------------+------------+------------------------+-------------+-------------------------+---------------------+---------------------------------+----------------------+----------------------------------+-----------+---------+------------------------+----------------------+------------------+-------------------------------+-------------+--------------+-----------+------------------+-----------------+-----------------------+--------------+----------------+-------------------------+------------------------------+-----------------------------+-----------------------------------+--------------------------+-------------------------------------+------------------------------+------------------------------------------+----------------+----------+------------------+----------+-------------+-------------+--------------+---------------+---------------------+-------------------+--------------+------------+----------------------+--------------------------+---------------+-----------------------+------------------------------------+---------------------------+----------------+---------------------------------------+\n",
      "|iso_code|continent|   location|      date|total_cases|new_cases|new_cases_smoothed|total_deaths|new_deaths|new_deaths_smoothed|total_cases_per_million|new_cases_per_million|new_cases_smoothed_per_million|total_deaths_per_million|new_deaths_per_million|new_deaths_smoothed_per_million|reproduction_rate|icu_patients|icu_patients_per_million|hosp_patients|hosp_patients_per_million|weekly_icu_admissions|weekly_icu_admissions_per_million|weekly_hosp_admissions|weekly_hosp_admissions_per_million|total_tests|new_tests|total_tests_per_thousand|new_tests_per_thousand|new_tests_smoothed|new_tests_smoothed_per_thousand|positive_rate|tests_per_case|tests_units|total_vaccinations|people_vaccinated|people_fully_vaccinated|total_boosters|new_vaccinations|new_vaccinations_smoothed|total_vaccinations_per_hundred|people_vaccinated_per_hundred|people_fully_vaccinated_per_hundred|total_boosters_per_hundred|new_vaccinations_smoothed_per_million|new_people_vaccinated_smoothed|new_people_vaccinated_smoothed_per_hundred|stringency_index|population|population_density|median_age|aged_65_older|aged_70_older|gdp_per_capita|extreme_poverty|cardiovasc_death_rate|diabetes_prevalence|female_smokers|male_smokers|handwashing_facilities|hospital_beds_per_thousand|life_expectancy|human_development_index|excess_mortality_cumulative_absolute|excess_mortality_cumulative|excess_mortality|excess_mortality_cumulative_per_million|\n",
      "+--------+---------+-----------+----------+-----------+---------+------------------+------------+----------+-------------------+-----------------------+---------------------+------------------------------+------------------------+----------------------+-------------------------------+-----------------+------------+------------------------+-------------+-------------------------+---------------------+---------------------------------+----------------------+----------------------------------+-----------+---------+------------------------+----------------------+------------------+-------------------------------+-------------+--------------+-----------+------------------+-----------------+-----------------------+--------------+----------------+-------------------------+------------------------------+-----------------------------+-----------------------------------+--------------------------+-------------------------------------+------------------------------+------------------------------------------+----------------+----------+------------------+----------+-------------+-------------+--------------+---------------+---------------------+-------------------+--------------+------------+----------------------+--------------------------+---------------+-----------------------+------------------------------------+---------------------------+----------------+---------------------------------------+\n",
      "|     AFG|     Asia|Afghanistan|2020-02-24|        5.0|      5.0|              null|        null|      null|               null|                  0.125|                0.125|                          null|                    null|                  null|                           null|             null|        null|                    null|         null|                     null|                 null|                             null|                  null|                              null|       null|     null|                    null|                  null|              null|                           null|         null|          null|       null|              null|             null|                   null|          null|            null|                     null|                          null|                         null|                               null|                      null|                                 null|                          null|                                      null|            8.33|40099462.0|            54.422|      18.6|        2.581|        1.337|      1803.987|           null|              597.029|               9.59|          null|        null|                37.746|                       0.5|          64.83|                  0.511|                                null|                       null|            null|                                   null|\n",
      "|     AFG|     Asia|Afghanistan|2020-02-25|        5.0|      0.0|              null|        null|      null|               null|                  0.125|                  0.0|                          null|                    null|                  null|                           null|             null|        null|                    null|         null|                     null|                 null|                             null|                  null|                              null|       null|     null|                    null|                  null|              null|                           null|         null|          null|       null|              null|             null|                   null|          null|            null|                     null|                          null|                         null|                               null|                      null|                                 null|                          null|                                      null|            8.33|40099462.0|            54.422|      18.6|        2.581|        1.337|      1803.987|           null|              597.029|               9.59|          null|        null|                37.746|                       0.5|          64.83|                  0.511|                                null|                       null|            null|                                   null|\n",
      "|     AFG|     Asia|Afghanistan|2020-02-26|        5.0|      0.0|              null|        null|      null|               null|                  0.125|                  0.0|                          null|                    null|                  null|                           null|             null|        null|                    null|         null|                     null|                 null|                             null|                  null|                              null|       null|     null|                    null|                  null|              null|                           null|         null|          null|       null|              null|             null|                   null|          null|            null|                     null|                          null|                         null|                               null|                      null|                                 null|                          null|                                      null|            8.33|40099462.0|            54.422|      18.6|        2.581|        1.337|      1803.987|           null|              597.029|               9.59|          null|        null|                37.746|                       0.5|          64.83|                  0.511|                                null|                       null|            null|                                   null|\n",
      "|     AFG|     Asia|Afghanistan|2020-02-27|        5.0|      0.0|              null|        null|      null|               null|                  0.125|                  0.0|                          null|                    null|                  null|                           null|             null|        null|                    null|         null|                     null|                 null|                             null|                  null|                              null|       null|     null|                    null|                  null|              null|                           null|         null|          null|       null|              null|             null|                   null|          null|            null|                     null|                          null|                         null|                               null|                      null|                                 null|                          null|                                      null|            8.33|40099462.0|            54.422|      18.6|        2.581|        1.337|      1803.987|           null|              597.029|               9.59|          null|        null|                37.746|                       0.5|          64.83|                  0.511|                                null|                       null|            null|                                   null|\n",
      "|     AFG|     Asia|Afghanistan|2020-02-28|        5.0|      0.0|              null|        null|      null|               null|                  0.125|                  0.0|                          null|                    null|                  null|                           null|             null|        null|                    null|         null|                     null|                 null|                             null|                  null|                              null|       null|     null|                    null|                  null|              null|                           null|         null|          null|       null|              null|             null|                   null|          null|            null|                     null|                          null|                         null|                               null|                      null|                                 null|                          null|                                      null|            8.33|40099462.0|            54.422|      18.6|        2.581|        1.337|      1803.987|           null|              597.029|               9.59|          null|        null|                37.746|                       0.5|          64.83|                  0.511|                                null|                       null|            null|                                   null|\n",
      "|     AFG|     Asia|Afghanistan|2020-02-29|        5.0|      0.0|             0.714|        null|      null|               null|                  0.125|                  0.0|                         0.018|                    null|                  null|                           null|             null|        null|                    null|         null|                     null|                 null|                             null|                  null|                              null|       null|     null|                    null|                  null|              null|                           null|         null|          null|       null|              null|             null|                   null|          null|            null|                     null|                          null|                         null|                               null|                      null|                                 null|                          null|                                      null|            8.33|40099462.0|            54.422|      18.6|        2.581|        1.337|      1803.987|           null|              597.029|               9.59|          null|        null|                37.746|                       0.5|          64.83|                  0.511|                                null|                       null|            null|                                   null|\n",
      "|     AFG|     Asia|Afghanistan|2020-03-01|        5.0|      0.0|             0.714|        null|      null|               null|                  0.125|                  0.0|                         0.018|                    null|                  null|                           null|             null|        null|                    null|         null|                     null|                 null|                             null|                  null|                              null|       null|     null|                    null|                  null|              null|                           null|         null|          null|       null|              null|             null|                   null|          null|            null|                     null|                          null|                         null|                               null|                      null|                                 null|                          null|                                      null|           27.78|40099462.0|            54.422|      18.6|        2.581|        1.337|      1803.987|           null|              597.029|               9.59|          null|        null|                37.746|                       0.5|          64.83|                  0.511|                                null|                       null|            null|                                   null|\n",
      "|     AFG|     Asia|Afghanistan|2020-03-02|        5.0|      0.0|               0.0|        null|      null|               null|                  0.125|                  0.0|                           0.0|                    null|                  null|                           null|             null|        null|                    null|         null|                     null|                 null|                             null|                  null|                              null|       null|     null|                    null|                  null|              null|                           null|         null|          null|       null|              null|             null|                   null|          null|            null|                     null|                          null|                         null|                               null|                      null|                                 null|                          null|                                      null|           27.78|40099462.0|            54.422|      18.6|        2.581|        1.337|      1803.987|           null|              597.029|               9.59|          null|        null|                37.746|                       0.5|          64.83|                  0.511|                                null|                       null|            null|                                   null|\n",
      "|     AFG|     Asia|Afghanistan|2020-03-03|        5.0|      0.0|               0.0|        null|      null|               null|                  0.125|                  0.0|                           0.0|                    null|                  null|                           null|             null|        null|                    null|         null|                     null|                 null|                             null|                  null|                              null|       null|     null|                    null|                  null|              null|                           null|         null|          null|       null|              null|             null|                   null|          null|            null|                     null|                          null|                         null|                               null|                      null|                                 null|                          null|                                      null|           27.78|40099462.0|            54.422|      18.6|        2.581|        1.337|      1803.987|           null|              597.029|               9.59|          null|        null|                37.746|                       0.5|          64.83|                  0.511|                                null|                       null|            null|                                   null|\n",
      "|     AFG|     Asia|Afghanistan|2020-03-04|        5.0|      0.0|               0.0|        null|      null|               null|                  0.125|                  0.0|                           0.0|                    null|                  null|                           null|             null|        null|                    null|         null|                     null|                 null|                             null|                  null|                              null|       null|     null|                    null|                  null|              null|                           null|         null|          null|       null|              null|             null|                   null|          null|            null|                     null|                          null|                         null|                               null|                      null|                                 null|                          null|                                      null|           27.78|40099462.0|            54.422|      18.6|        2.581|        1.337|      1803.987|           null|              597.029|               9.59|          null|        null|                37.746|                       0.5|          64.83|                  0.511|                                null|                       null|            null|                                   null|\n",
      "|     AFG|     Asia|Afghanistan|2020-03-05|        5.0|      0.0|               0.0|        null|      null|               null|                  0.125|                  0.0|                           0.0|                    null|                  null|                           null|             null|        null|                    null|         null|                     null|                 null|                             null|                  null|                              null|       null|     null|                    null|                  null|              null|                           null|         null|          null|       null|              null|             null|                   null|          null|            null|                     null|                          null|                         null|                               null|                      null|                                 null|                          null|                                      null|           27.78|40099462.0|            54.422|      18.6|        2.581|        1.337|      1803.987|           null|              597.029|               9.59|          null|        null|                37.746|                       0.5|          64.83|                  0.511|                                null|                       null|            null|                                   null|\n",
      "|     AFG|     Asia|Afghanistan|2020-03-06|        5.0|      0.0|               0.0|        null|      null|               null|                  0.125|                  0.0|                           0.0|                    null|                  null|                           null|             null|        null|                    null|         null|                     null|                 null|                             null|                  null|                              null|       null|     null|                    null|                  null|              null|                           null|         null|          null|       null|              null|             null|                   null|          null|            null|                     null|                          null|                         null|                               null|                      null|                                 null|                          null|                                      null|           27.78|40099462.0|            54.422|      18.6|        2.581|        1.337|      1803.987|           null|              597.029|               9.59|          null|        null|                37.746|                       0.5|          64.83|                  0.511|                                null|                       null|            null|                                   null|\n",
      "|     AFG|     Asia|Afghanistan|2020-03-07|        8.0|      3.0|             0.429|        null|      null|               null|                    0.2|                0.075|                         0.011|                    null|                  null|                           null|             null|        null|                    null|         null|                     null|                 null|                             null|                  null|                              null|       null|     null|                    null|                  null|              null|                           null|         null|          null|       null|              null|             null|                   null|          null|            null|                     null|                          null|                         null|                               null|                      null|                                 null|                          null|                                      null|           27.78|40099462.0|            54.422|      18.6|        2.581|        1.337|      1803.987|           null|              597.029|               9.59|          null|        null|                37.746|                       0.5|          64.83|                  0.511|                                null|                       null|            null|                                   null|\n",
      "|     AFG|     Asia|Afghanistan|2020-03-08|        8.0|      0.0|             0.429|        null|      null|               null|                    0.2|                  0.0|                         0.011|                    null|                  null|                           null|             null|        null|                    null|         null|                     null|                 null|                             null|                  null|                              null|       null|     null|                    null|                  null|              null|                           null|         null|          null|       null|              null|             null|                   null|          null|            null|                     null|                          null|                         null|                               null|                      null|                                 null|                          null|                                      null|           27.78|40099462.0|            54.422|      18.6|        2.581|        1.337|      1803.987|           null|              597.029|               9.59|          null|        null|                37.746|                       0.5|          64.83|                  0.511|                                null|                       null|            null|                                   null|\n",
      "|     AFG|     Asia|Afghanistan|2020-03-09|        8.0|      0.0|             0.429|        null|      null|               null|                    0.2|                  0.0|                         0.011|                    null|                  null|                           null|             null|        null|                    null|         null|                     null|                 null|                             null|                  null|                              null|       null|     null|                    null|                  null|              null|                           null|         null|          null|       null|              null|             null|                   null|          null|            null|                     null|                          null|                         null|                               null|                      null|                                 null|                          null|                                      null|           27.78|40099462.0|            54.422|      18.6|        2.581|        1.337|      1803.987|           null|              597.029|               9.59|          null|        null|                37.746|                       0.5|          64.83|                  0.511|                                null|                       null|            null|                                   null|\n",
      "|     AFG|     Asia|Afghanistan|2020-03-10|        8.0|      0.0|             0.429|        null|      null|               null|                    0.2|                  0.0|                         0.011|                    null|                  null|                           null|             null|        null|                    null|         null|                     null|                 null|                             null|                  null|                              null|       null|     null|                    null|                  null|              null|                           null|         null|          null|       null|              null|             null|                   null|          null|            null|                     null|                          null|                         null|                               null|                      null|                                 null|                          null|                                      null|           27.78|40099462.0|            54.422|      18.6|        2.581|        1.337|      1803.987|           null|              597.029|               9.59|          null|        null|                37.746|                       0.5|          64.83|                  0.511|                                null|                       null|            null|                                   null|\n",
      "|     AFG|     Asia|Afghanistan|2020-03-11|       11.0|      3.0|             0.857|        null|      null|               null|                  0.274|                0.075|                         0.021|                    null|                  null|                           null|             null|        null|                    null|         null|                     null|                 null|                             null|                  null|                              null|       null|     null|                    null|                  null|              null|                           null|         null|          null|       null|              null|             null|                   null|          null|            null|                     null|                          null|                         null|                               null|                      null|                                 null|                          null|                                      null|           27.78|40099462.0|            54.422|      18.6|        2.581|        1.337|      1803.987|           null|              597.029|               9.59|          null|        null|                37.746|                       0.5|          64.83|                  0.511|                                null|                       null|            null|                                   null|\n",
      "|     AFG|     Asia|Afghanistan|2020-03-12|       11.0|      0.0|             0.857|        null|      null|               null|                  0.274|                  0.0|                         0.021|                    null|                  null|                           null|             null|        null|                    null|         null|                     null|                 null|                             null|                  null|                              null|       null|     null|                    null|                  null|              null|                           null|         null|          null|       null|              null|             null|                   null|          null|            null|                     null|                          null|                         null|                               null|                      null|                                 null|                          null|                                      null|           27.78|40099462.0|            54.422|      18.6|        2.581|        1.337|      1803.987|           null|              597.029|               9.59|          null|        null|                37.746|                       0.5|          64.83|                  0.511|                                null|                       null|            null|                                   null|\n",
      "|     AFG|     Asia|Afghanistan|2020-03-13|       11.0|      0.0|             0.857|        null|      null|               null|                  0.274|                  0.0|                         0.021|                    null|                  null|                           null|             null|        null|                    null|         null|                     null|                 null|                             null|                  null|                              null|       null|     null|                    null|                  null|              null|                           null|         null|          null|       null|              null|             null|                   null|          null|            null|                     null|                          null|                         null|                               null|                      null|                                 null|                          null|                                      null|           27.78|40099462.0|            54.422|      18.6|        2.581|        1.337|      1803.987|           null|              597.029|               9.59|          null|        null|                37.746|                       0.5|          64.83|                  0.511|                                null|                       null|            null|                                   null|\n",
      "|     AFG|     Asia|Afghanistan|2020-03-14|       14.0|      3.0|             0.857|        null|      null|               null|                  0.349|                0.075|                         0.021|                    null|                  null|                           null|             null|        null|                    null|         null|                     null|                 null|                             null|                  null|                              null|       null|     null|                    null|                  null|              null|                           null|         null|          null|       null|              null|             null|                   null|          null|            null|                     null|                          null|                         null|                               null|                      null|                                 null|                          null|                                      null|           38.89|40099462.0|            54.422|      18.6|        2.581|        1.337|      1803.987|           null|              597.029|               9.59|          null|        null|                37.746|                       0.5|          64.83|                  0.511|                                null|                       null|            null|                                   null|\n",
      "+--------+---------+-----------+----------+-----------+---------+------------------+------------+----------+-------------------+-----------------------+---------------------+------------------------------+------------------------+----------------------+-------------------------------+-----------------+------------+------------------------+-------------+-------------------------+---------------------+---------------------------------+----------------------+----------------------------------+-----------+---------+------------------------+----------------------+------------------+-------------------------------+-------------+--------------+-----------+------------------+-----------------+-----------------------+--------------+----------------+-------------------------+------------------------------+-----------------------------+-----------------------------------+--------------------------+-------------------------------------+------------------------------+------------------------------------------+----------------+----------+------------------+----------+-------------+-------------+--------------+---------------+---------------------+-------------------+--------------+------------+----------------------+--------------------------+---------------+-----------------------+------------------------------------+---------------------------+----------------+---------------------------------------+\n",
      "only showing top 20 rows\n",
      "\n"
     ]
    }
   ],
   "source": [
    "df=spark.read.options(delimiter=\",\", header=True).csv(r\"C:\\Users\\Priscilla Ng\\Documents\\Data Science Projects\\Covid\\Datasets\\covid-data.csv\")\n",
    "df.show()"
   ]
  },
  {
   "cell_type": "code",
   "execution_count": 11,
   "id": "422e9bfc",
   "metadata": {
    "ExecuteTime": {
     "end_time": "2022-10-13T02:33:30.247001Z",
     "start_time": "2022-10-13T02:33:30.227490Z"
    }
   },
   "outputs": [
    {
     "name": "stdout",
     "output_type": "stream",
     "text": [
      "root\n",
      " |-- iso_code: string (nullable = true)\n",
      " |-- continent: string (nullable = true)\n",
      " |-- location: string (nullable = true)\n",
      " |-- date: string (nullable = true)\n",
      " |-- total_cases: string (nullable = true)\n",
      " |-- new_cases: string (nullable = true)\n",
      " |-- new_cases_smoothed: string (nullable = true)\n",
      " |-- total_deaths: string (nullable = true)\n",
      " |-- new_deaths: string (nullable = true)\n",
      " |-- new_deaths_smoothed: string (nullable = true)\n",
      " |-- total_cases_per_million: string (nullable = true)\n",
      " |-- new_cases_per_million: string (nullable = true)\n",
      " |-- new_cases_smoothed_per_million: string (nullable = true)\n",
      " |-- total_deaths_per_million: string (nullable = true)\n",
      " |-- new_deaths_per_million: string (nullable = true)\n",
      " |-- new_deaths_smoothed_per_million: string (nullable = true)\n",
      " |-- reproduction_rate: string (nullable = true)\n",
      " |-- icu_patients: string (nullable = true)\n",
      " |-- icu_patients_per_million: string (nullable = true)\n",
      " |-- hosp_patients: string (nullable = true)\n",
      " |-- hosp_patients_per_million: string (nullable = true)\n",
      " |-- weekly_icu_admissions: string (nullable = true)\n",
      " |-- weekly_icu_admissions_per_million: string (nullable = true)\n",
      " |-- weekly_hosp_admissions: string (nullable = true)\n",
      " |-- weekly_hosp_admissions_per_million: string (nullable = true)\n",
      " |-- total_tests: string (nullable = true)\n",
      " |-- new_tests: string (nullable = true)\n",
      " |-- total_tests_per_thousand: string (nullable = true)\n",
      " |-- new_tests_per_thousand: string (nullable = true)\n",
      " |-- new_tests_smoothed: string (nullable = true)\n",
      " |-- new_tests_smoothed_per_thousand: string (nullable = true)\n",
      " |-- positive_rate: string (nullable = true)\n",
      " |-- tests_per_case: string (nullable = true)\n",
      " |-- tests_units: string (nullable = true)\n",
      " |-- total_vaccinations: string (nullable = true)\n",
      " |-- people_vaccinated: string (nullable = true)\n",
      " |-- people_fully_vaccinated: string (nullable = true)\n",
      " |-- total_boosters: string (nullable = true)\n",
      " |-- new_vaccinations: string (nullable = true)\n",
      " |-- new_vaccinations_smoothed: string (nullable = true)\n",
      " |-- total_vaccinations_per_hundred: string (nullable = true)\n",
      " |-- people_vaccinated_per_hundred: string (nullable = true)\n",
      " |-- people_fully_vaccinated_per_hundred: string (nullable = true)\n",
      " |-- total_boosters_per_hundred: string (nullable = true)\n",
      " |-- new_vaccinations_smoothed_per_million: string (nullable = true)\n",
      " |-- new_people_vaccinated_smoothed: string (nullable = true)\n",
      " |-- new_people_vaccinated_smoothed_per_hundred: string (nullable = true)\n",
      " |-- stringency_index: string (nullable = true)\n",
      " |-- population: string (nullable = true)\n",
      " |-- population_density: string (nullable = true)\n",
      " |-- median_age: string (nullable = true)\n",
      " |-- aged_65_older: string (nullable = true)\n",
      " |-- aged_70_older: string (nullable = true)\n",
      " |-- gdp_per_capita: string (nullable = true)\n",
      " |-- extreme_poverty: string (nullable = true)\n",
      " |-- cardiovasc_death_rate: string (nullable = true)\n",
      " |-- diabetes_prevalence: string (nullable = true)\n",
      " |-- female_smokers: string (nullable = true)\n",
      " |-- male_smokers: string (nullable = true)\n",
      " |-- handwashing_facilities: string (nullable = true)\n",
      " |-- hospital_beds_per_thousand: string (nullable = true)\n",
      " |-- life_expectancy: string (nullable = true)\n",
      " |-- human_development_index: string (nullable = true)\n",
      " |-- excess_mortality_cumulative_absolute: string (nullable = true)\n",
      " |-- excess_mortality_cumulative: string (nullable = true)\n",
      " |-- excess_mortality: string (nullable = true)\n",
      " |-- excess_mortality_cumulative_per_million: string (nullable = true)\n",
      "\n"
     ]
    }
   ],
   "source": [
    "df.printSchema()"
   ]
  },
  {
   "cell_type": "markdown",
   "id": "61ca84a5",
   "metadata": {},
   "source": [
    "### Common dataframe actions"
   ]
  },
  {
   "cell_type": "code",
   "execution_count": 8,
   "id": "79fb5014",
   "metadata": {
    "ExecuteTime": {
     "end_time": "2022-10-13T02:30:53.013367Z",
     "start_time": "2022-10-13T02:30:52.276385Z"
    }
   },
   "outputs": [
    {
     "name": "stdout",
     "output_type": "stream",
     "text": [
      "+--------+---------+---------+----------+-----------+---------+------------------+------------+----------+-------------------+-----------------------+---------------------+------------------------------+------------------------+----------------------+-------------------------------+-----------------+------------+------------------------+-------------+-------------------------+---------------------+---------------------------------+----------------------+----------------------------------+-----------+---------+------------------------+----------------------+------------------+-------------------------------+-------------+--------------+-----------+------------------+-----------------+-----------------------+--------------+----------------+-------------------------+------------------------------+-----------------------------+-----------------------------------+--------------------------+-------------------------------------+------------------------------+------------------------------------------+----------------+----------+------------------+----------+-------------+-------------+--------------+---------------+---------------------+-------------------+--------------+------------+----------------------+--------------------------+---------------+-----------------------+------------------------------------+---------------------------+----------------+---------------------------------------+\n",
      "|iso_code|continent|location |date      |total_cases|new_cases|new_cases_smoothed|total_deaths|new_deaths|new_deaths_smoothed|total_cases_per_million|new_cases_per_million|new_cases_smoothed_per_million|total_deaths_per_million|new_deaths_per_million|new_deaths_smoothed_per_million|reproduction_rate|icu_patients|icu_patients_per_million|hosp_patients|hosp_patients_per_million|weekly_icu_admissions|weekly_icu_admissions_per_million|weekly_hosp_admissions|weekly_hosp_admissions_per_million|total_tests|new_tests|total_tests_per_thousand|new_tests_per_thousand|new_tests_smoothed|new_tests_smoothed_per_thousand|positive_rate|tests_per_case|tests_units|total_vaccinations|people_vaccinated|people_fully_vaccinated|total_boosters|new_vaccinations|new_vaccinations_smoothed|total_vaccinations_per_hundred|people_vaccinated_per_hundred|people_fully_vaccinated_per_hundred|total_boosters_per_hundred|new_vaccinations_smoothed_per_million|new_people_vaccinated_smoothed|new_people_vaccinated_smoothed_per_hundred|stringency_index|population|population_density|median_age|aged_65_older|aged_70_older|gdp_per_capita|extreme_poverty|cardiovasc_death_rate|diabetes_prevalence|female_smokers|male_smokers|handwashing_facilities|hospital_beds_per_thousand|life_expectancy|human_development_index|excess_mortality_cumulative_absolute|excess_mortality_cumulative|excess_mortality|excess_mortality_cumulative_per_million|\n",
      "+--------+---------+---------+----------+-----------+---------+------------------+------------+----------+-------------------+-----------------------+---------------------+------------------------------+------------------------+----------------------+-------------------------------+-----------------+------------+------------------------+-------------+-------------------------+---------------------+---------------------------------+----------------------+----------------------------------+-----------+---------+------------------------+----------------------+------------------+-------------------------------+-------------+--------------+-----------+------------------+-----------------+-----------------------+--------------+----------------+-------------------------+------------------------------+-----------------------------+-----------------------------------+--------------------------+-------------------------------------+------------------------------+------------------------------------------+----------------+----------+------------------+----------+-------------+-------------+--------------+---------------+---------------------+-------------------+--------------+------------+----------------------+--------------------------+---------------+-----------------------+------------------------------------+---------------------------+----------------+---------------------------------------+\n",
      "|SGP     |Asia     |Singapore|2020-01-23|1.0        |1.0      |null              |null        |null      |null               |0.183                  |0.183                |null                          |null                    |null                  |null                           |null             |null        |null                    |null         |null                     |null                 |null                             |null                  |null                              |null       |null     |null                    |null                  |null              |null                           |null         |null          |null       |null              |null             |null                   |null          |null            |null                     |null                          |null                         |null                               |null                      |null                                 |null                          |null                                      |25.0            |5453600.0 |7915.731          |42.4      |12.922       |7.049        |85535.383     |null           |92.243               |10.99              |5.2           |28.3        |null                  |2.4                       |83.62          |0.938                  |null                                |null                       |null            |null                                   |\n",
      "|SGP     |Asia     |Singapore|2020-01-24|3.0        |2.0      |null              |null        |null      |null               |0.55                   |0.367                |null                          |null                    |null                  |null                           |null             |null        |null                    |null         |null                     |null                 |null                             |null                  |null                              |null       |null     |null                    |null                  |null              |null                           |null         |null          |null       |null              |null             |null                   |null          |null            |null                     |null                          |null                         |null                               |null                      |null                                 |null                          |null                                      |25.0            |5453600.0 |7915.731          |42.4      |12.922       |7.049        |85535.383     |null           |92.243               |10.99              |5.2           |28.3        |null                  |2.4                       |83.62          |0.938                  |null                                |null                       |null            |null                                   |\n",
      "|SGP     |Asia     |Singapore|2020-01-25|3.0        |0.0      |null              |null        |null      |null               |0.55                   |0.0                  |null                          |null                    |null                  |null                           |null             |null        |null                    |null         |null                     |null                 |null                             |null                  |null                              |null       |null     |null                    |null                  |null              |null                           |null         |null          |null       |null              |null             |null                   |null          |null            |null                     |null                          |null                         |null                               |null                      |null                                 |null                          |null                                      |25.0            |5453600.0 |7915.731          |42.4      |12.922       |7.049        |85535.383     |null           |92.243               |10.99              |5.2           |28.3        |null                  |2.4                       |83.62          |0.938                  |null                                |null                       |null            |null                                   |\n",
      "|SGP     |Asia     |Singapore|2020-01-26|4.0        |1.0      |null              |null        |null      |null               |0.733                  |0.183                |null                          |null                    |null                  |null                           |null             |null        |null                    |null         |null                     |null                 |null                             |null                  |null                              |null       |null     |null                    |null                  |null              |null                           |null         |null          |null       |null              |null             |null                   |null          |null            |null                     |null                          |null                         |null                               |null                      |null                                 |null                          |null                                      |25.0            |5453600.0 |7915.731          |42.4      |12.922       |7.049        |85535.383     |null           |92.243               |10.99              |5.2           |28.3        |null                  |2.4                       |83.62          |0.938                  |null                                |null                       |null            |null                                   |\n",
      "|SGP     |Asia     |Singapore|2020-01-27|5.0        |1.0      |null              |null        |null      |null               |0.917                  |0.183                |null                          |null                    |null                  |null                           |null             |null        |null                    |null         |null                     |null                 |null                             |null                  |null                              |null       |null     |null                    |null                  |null              |null                           |null         |null          |null       |null              |null             |null                   |null          |null            |null                     |null                          |null                         |null                               |null                      |null                                 |null                          |null                                      |25.0            |5453600.0 |7915.731          |42.4      |12.922       |7.049        |85535.383     |null           |92.243               |10.99              |5.2           |28.3        |null                  |2.4                       |83.62          |0.938                  |null                                |null                       |null            |null                                   |\n",
      "|SGP     |Asia     |Singapore|2020-01-28|7.0        |2.0      |1.0               |null        |null      |null               |1.284                  |0.367                |0.183                         |null                    |null                  |null                           |null             |null        |null                    |null         |null                     |null                 |null                             |null                  |null                              |null       |null     |null                    |null                  |null              |null                           |null         |null          |null       |null              |null             |null                   |null          |null            |null                     |null                          |null                         |null                               |null                      |null                                 |null                          |null                                      |25.0            |5453600.0 |7915.731          |42.4      |12.922       |7.049        |85535.383     |null           |92.243               |10.99              |5.2           |28.3        |null                  |2.4                       |83.62          |0.938                  |null                                |null                       |null            |null                                   |\n",
      "|SGP     |Asia     |Singapore|2020-01-29|7.0        |0.0      |1.0               |null        |null      |null               |1.284                  |0.0                  |0.183                         |null                    |null                  |null                           |null             |null        |null                    |null         |null                     |null                 |null                             |null                  |null                              |null       |null     |null                    |null                  |null              |null                           |null         |null          |null       |null              |null             |null                   |null          |null            |null                     |null                          |null                         |null                               |null                      |null                                 |null                          |null                                      |25.0            |5453600.0 |7915.731          |42.4      |12.922       |7.049        |85535.383     |null           |92.243               |10.99              |5.2           |28.3        |null                  |2.4                       |83.62          |0.938                  |null                                |null                       |null            |null                                   |\n",
      "|SGP     |Asia     |Singapore|2020-01-30|10.0       |3.0      |1.286             |null        |null      |null               |1.834                  |0.55                 |0.236                         |null                    |null                  |null                           |null             |null        |null                    |null         |null                     |null                 |null                             |null                  |null                              |null       |null     |null                    |null                  |null              |null                           |null         |null          |null       |null              |null             |null                   |null          |null            |null                     |null                          |null                         |null                               |null                      |null                                 |null                          |null                                      |25.0            |5453600.0 |7915.731          |42.4      |12.922       |7.049        |85535.383     |null           |92.243               |10.99              |5.2           |28.3        |null                  |2.4                       |83.62          |0.938                  |null                                |null                       |null            |null                                   |\n",
      "|SGP     |Asia     |Singapore|2020-01-31|13.0       |3.0      |1.429             |null        |null      |null               |2.384                  |0.55                 |0.262                         |null                    |null                  |null                           |null             |null        |null                    |null         |null                     |null                 |null                             |null                  |null                              |null       |null     |null                    |null                  |null              |null                           |null         |null          |null       |null              |null             |null                   |null          |null            |null                     |null                          |null                         |null                               |null                      |null                                 |null                          |null                                      |25.0            |5453600.0 |7915.731          |42.4      |12.922       |7.049        |85535.383     |null           |92.243               |10.99              |5.2           |28.3        |null                  |2.4                       |83.62          |0.938                  |203.8                               |10.8                       |10.8            |37.3698107671997                       |\n",
      "|SGP     |Asia     |Singapore|2020-02-01|16.0       |3.0      |1.857             |null        |null      |null               |2.934                  |0.55                 |0.341                         |null                    |null                  |null                           |null             |null        |null                    |null         |null                     |null                 |null                             |null                  |null                              |null       |null     |null                    |null                  |null              |null                           |null         |null          |null       |null              |null             |null                   |null          |null            |null                     |null                          |null                         |null                               |null                      |null                                 |null                          |null                                      |25.0            |5453600.0 |7915.731          |42.4      |12.922       |7.049        |85535.383     |null           |92.243               |10.99              |5.2           |28.3        |null                  |2.4                       |83.62          |0.938                  |null                                |null                       |null            |null                                   |\n",
      "|SGP     |Asia     |Singapore|2020-02-02|18.0       |2.0      |2.0               |null        |null      |null               |3.301                  |0.367                |0.367                         |null                    |null                  |null                           |null             |null        |null                    |null         |null                     |null                 |null                             |null                  |null                              |null       |null     |null                    |null                  |null              |null                           |null         |null          |null       |null              |null             |null                   |null          |null            |null                     |null                          |null                         |null                               |null                      |null                                 |null                          |null                                      |25.0            |5453600.0 |7915.731          |42.4      |12.922       |7.049        |85535.383     |null           |92.243               |10.99              |5.2           |28.3        |null                  |2.4                       |83.62          |0.938                  |null                                |null                       |null            |null                                   |\n",
      "|SGP     |Asia     |Singapore|2020-02-03|18.0       |0.0      |1.857             |null        |null      |null               |3.301                  |0.0                  |0.341                         |null                    |null                  |null                           |null             |null        |null                    |null         |null                     |null                 |null                             |null                  |null                              |null       |null     |null                    |null                  |null              |null                           |null         |null          |null       |null              |null             |null                   |null          |null            |null                     |null                          |null                         |null                               |null                      |null                                 |null                          |null                                      |25.0            |5453600.0 |7915.731          |42.4      |12.922       |7.049        |85535.383     |null           |92.243               |10.99              |5.2           |28.3        |null                  |2.4                       |83.62          |0.938                  |null                                |null                       |null            |null                                   |\n",
      "|SGP     |Asia     |Singapore|2020-02-04|24.0       |6.0      |2.429             |null        |null      |null               |4.401                  |1.1                  |0.445                         |null                    |null                  |null                           |null             |null        |null                    |null         |null                     |null                 |null                             |null                  |null                              |null       |null     |null                    |null                  |null              |null                           |null         |null          |null       |null              |null             |null                   |null          |null            |null                     |null                          |null                         |null                               |null                      |null                                 |null                          |null                                      |25.0            |5453600.0 |7915.731          |42.4      |12.922       |7.049        |85535.383     |null           |92.243               |10.99              |5.2           |28.3        |null                  |2.4                       |83.62          |0.938                  |null                                |null                       |null            |null                                   |\n",
      "|SGP     |Asia     |Singapore|2020-02-05|28.0       |4.0      |3.0               |null        |null      |null               |5.134                  |0.733                |0.55                          |null                    |null                  |null                           |null             |null        |null                    |null         |null                     |null                 |null                             |null                  |null                              |null       |null     |null                    |null                  |null              |null                           |null         |null          |null       |null              |null             |null                   |null          |null            |null                     |null                          |null                         |null                               |null                      |null                                 |null                          |null                                      |25.0            |5453600.0 |7915.731          |42.4      |12.922       |7.049        |85535.383     |null           |92.243               |10.99              |5.2           |28.3        |null                  |2.4                       |83.62          |0.938                  |null                                |null                       |null            |null                                   |\n",
      "|SGP     |Asia     |Singapore|2020-02-06|28.0       |0.0      |2.571             |null        |null      |null               |5.134                  |0.0                  |0.472                         |null                    |null                  |null                           |null             |null        |null                    |null         |null                     |null                 |null                             |null                  |null                              |null       |null     |null                    |null                  |null              |null                           |null         |null          |null       |null              |null             |null                   |null          |null            |null                     |null                          |null                         |null                               |null                      |null                                 |null                          |null                                      |25.0            |5453600.0 |7915.731          |42.4      |12.922       |7.049        |85535.383     |null           |92.243               |10.99              |5.2           |28.3        |null                  |2.4                       |83.62          |0.938                  |null                                |null                       |null            |null                                   |\n",
      "|SGP     |Asia     |Singapore|2020-02-07|30.0       |2.0      |2.429             |null        |null      |null               |5.501                  |0.367                |0.445                         |null                    |null                  |null                           |null             |null        |null                    |null         |null                     |null                 |null                             |null                  |null                              |null       |null     |null                    |null                  |null              |null                           |null         |null          |null       |null              |null             |null                   |null          |null            |null                     |null                          |null                         |null                               |null                      |null                                 |null                          |null                                      |30.56           |5453600.0 |7915.731          |42.4      |12.922       |7.049        |85535.383     |null           |92.243               |10.99              |5.2           |28.3        |null                  |2.4                       |83.62          |0.938                  |null                                |null                       |null            |null                                   |\n",
      "|SGP     |Asia     |Singapore|2020-02-08|33.0       |3.0      |2.429             |null        |null      |null               |6.051                  |0.55                 |0.445                         |null                    |null                  |null                           |null             |null        |null                    |null         |null                     |null                 |null                             |null                  |null                              |null       |null     |null                    |null                  |null              |null                           |null         |null          |null       |null              |null             |null                   |null          |null            |null                     |null                          |null                         |null                               |null                      |null                                 |null                          |null                                      |30.56           |5453600.0 |7915.731          |42.4      |12.922       |7.049        |85535.383     |null           |92.243               |10.99              |5.2           |28.3        |null                  |2.4                       |83.62          |0.938                  |null                                |null                       |null            |null                                   |\n",
      "|SGP     |Asia     |Singapore|2020-02-09|40.0       |7.0      |3.143             |null        |null      |null               |7.335                  |1.284                |0.576                         |null                    |null                  |null                           |null             |null        |null                    |null         |null                     |null                 |null                             |null                  |null                              |null       |null     |null                    |null                  |null              |null                           |null         |null          |null       |null              |null             |null                   |null          |null            |null                     |null                          |null                         |null                               |null                      |null                                 |null                          |null                                      |30.56           |5453600.0 |7915.731          |42.4      |12.922       |7.049        |85535.383     |null           |92.243               |10.99              |5.2           |28.3        |null                  |2.4                       |83.62          |0.938                  |null                                |null                       |null            |null                                   |\n",
      "|SGP     |Asia     |Singapore|2020-02-10|45.0       |5.0      |3.857             |null        |null      |null               |8.251                  |0.917                |0.707                         |null                    |null                  |null                           |null             |null        |null                    |null         |null                     |null                 |null                             |null                  |null                              |null       |null     |null                    |null                  |null              |null                           |null         |null          |null       |null              |null             |null                   |null          |null            |null                     |null                          |null                         |null                               |null                      |null                                 |null                          |null                                      |30.56           |5453600.0 |7915.731          |42.4      |12.922       |7.049        |85535.383     |null           |92.243               |10.99              |5.2           |28.3        |null                  |2.4                       |83.62          |0.938                  |null                                |null                       |null            |null                                   |\n",
      "|SGP     |Asia     |Singapore|2020-02-11|47.0       |2.0      |3.286             |null        |null      |null               |8.618                  |0.367                |0.602                         |null                    |null                  |null                           |null             |null        |null                    |null         |null                     |null                 |null                             |null                  |null                              |null       |null     |null                    |null                  |null              |null                           |null         |null          |null       |null              |null             |null                   |null          |null            |null                     |null                          |null                         |null                               |null                      |null                                 |null                          |null                                      |30.56           |5453600.0 |7915.731          |42.4      |12.922       |7.049        |85535.383     |null           |92.243               |10.99              |5.2           |28.3        |null                  |2.4                       |83.62          |0.938                  |null                                |null                       |null            |null                                   |\n",
      "+--------+---------+---------+----------+-----------+---------+------------------+------------+----------+-------------------+-----------------------+---------------------+------------------------------+------------------------+----------------------+-------------------------------+-----------------+------------+------------------------+-------------+-------------------------+---------------------+---------------------------------+----------------------+----------------------------------+-----------+---------+------------------------+----------------------+------------------+-------------------------------+-------------+--------------+-----------+------------------+-----------------+-----------------------+--------------+----------------+-------------------------+------------------------------+-----------------------------+-----------------------------------+--------------------------+-------------------------------------+------------------------------+------------------------------------------+----------------+----------+------------------+----------+-------------+-------------+--------------+---------------+---------------------+-------------------+--------------+------------+----------------------+--------------------------+---------------+-----------------------+------------------------------------+---------------------------+----------------+---------------------------------------+\n",
      "only showing top 20 rows\n",
      "\n"
     ]
    }
   ],
   "source": [
    "# Filter out location Singapore\n",
    "singapore = df.filter(df.location == \"Singapore\").show(truncate=False)"
   ]
  },
  {
   "cell_type": "code",
   "execution_count": 9,
   "id": "91b2c614",
   "metadata": {
    "ExecuteTime": {
     "end_time": "2022-10-13T02:31:57.262451Z",
     "start_time": "2022-10-13T02:31:57.089409Z"
    },
    "scrolled": true
   },
   "outputs": [
    {
     "name": "stdout",
     "output_type": "stream",
     "text": [
      "+---------+-----------+----------+-----------+---------+------------+----------+\n",
      "|continent|   location|      date|total_cases|new_cases|total_deaths|new_deaths|\n",
      "+---------+-----------+----------+-----------+---------+------------+----------+\n",
      "|     Asia|Afghanistan|2020-02-24|        5.0|      5.0|        null|      null|\n",
      "|     Asia|Afghanistan|2020-02-25|        5.0|      0.0|        null|      null|\n",
      "|     Asia|Afghanistan|2020-02-26|        5.0|      0.0|        null|      null|\n",
      "|     Asia|Afghanistan|2020-02-27|        5.0|      0.0|        null|      null|\n",
      "|     Asia|Afghanistan|2020-02-28|        5.0|      0.0|        null|      null|\n",
      "|     Asia|Afghanistan|2020-02-29|        5.0|      0.0|        null|      null|\n",
      "|     Asia|Afghanistan|2020-03-01|        5.0|      0.0|        null|      null|\n",
      "|     Asia|Afghanistan|2020-03-02|        5.0|      0.0|        null|      null|\n",
      "|     Asia|Afghanistan|2020-03-03|        5.0|      0.0|        null|      null|\n",
      "|     Asia|Afghanistan|2020-03-04|        5.0|      0.0|        null|      null|\n",
      "|     Asia|Afghanistan|2020-03-05|        5.0|      0.0|        null|      null|\n",
      "|     Asia|Afghanistan|2020-03-06|        5.0|      0.0|        null|      null|\n",
      "|     Asia|Afghanistan|2020-03-07|        8.0|      3.0|        null|      null|\n",
      "|     Asia|Afghanistan|2020-03-08|        8.0|      0.0|        null|      null|\n",
      "|     Asia|Afghanistan|2020-03-09|        8.0|      0.0|        null|      null|\n",
      "|     Asia|Afghanistan|2020-03-10|        8.0|      0.0|        null|      null|\n",
      "|     Asia|Afghanistan|2020-03-11|       11.0|      3.0|        null|      null|\n",
      "|     Asia|Afghanistan|2020-03-12|       11.0|      0.0|        null|      null|\n",
      "|     Asia|Afghanistan|2020-03-13|       11.0|      0.0|        null|      null|\n",
      "|     Asia|Afghanistan|2020-03-14|       14.0|      3.0|        null|      null|\n",
      "+---------+-----------+----------+-----------+---------+------------+----------+\n",
      "only showing top 20 rows\n",
      "\n"
     ]
    }
   ],
   "source": [
    "# Create new dataframe with specific columns\n",
    "df1 = df[['continent','location','date','total_cases', 'new_cases', 'total_deaths', 'new_deaths']]\n",
    "df1.show()"
   ]
  },
  {
   "cell_type": "code",
   "execution_count": 10,
   "id": "90f717c9",
   "metadata": {
    "ExecuteTime": {
     "end_time": "2022-10-13T02:32:33.139577Z",
     "start_time": "2022-10-13T02:32:31.946850Z"
    }
   },
   "outputs": [
    {
     "name": "stdout",
     "output_type": "stream",
     "text": [
      "+-------------+-----+\n",
      "|    continent|count|\n",
      "+-------------+-----+\n",
      "|       Europe|48158|\n",
      "|       Africa|51463|\n",
      "|         null|12803|\n",
      "|North America|34238|\n",
      "|South America|12365|\n",
      "|      Oceania|15859|\n",
      "|         Asia|47959|\n",
      "+-------------+-----+\n",
      "\n",
      "None\n"
     ]
    }
   ],
   "source": [
    "# Group by continent and perform a count of data\n",
    "continent_df = df.groupBy('continent').count()\n",
    "print(continent_df.show())"
   ]
  },
  {
   "cell_type": "markdown",
   "id": "e8dd8913",
   "metadata": {},
   "source": [
    "### Use Spark SQL to query data"
   ]
  },
  {
   "cell_type": "code",
   "execution_count": 13,
   "id": "44ab4f66",
   "metadata": {
    "ExecuteTime": {
     "end_time": "2022-10-13T02:39:16.385862Z",
     "start_time": "2022-10-13T02:39:16.198728Z"
    }
   },
   "outputs": [
    {
     "name": "stdout",
     "output_type": "stream",
     "text": [
      "+--------+---------+-----------+----------+-----------+---------+------------------+------------+----------+-------------------+-----------------------+---------------------+------------------------------+------------------------+----------------------+-------------------------------+-----------------+------------+------------------------+-------------+-------------------------+---------------------+---------------------------------+----------------------+----------------------------------+-----------+---------+------------------------+----------------------+------------------+-------------------------------+-------------+--------------+-----------+------------------+-----------------+-----------------------+--------------+----------------+-------------------------+------------------------------+-----------------------------+-----------------------------------+--------------------------+-------------------------------------+------------------------------+------------------------------------------+----------------+----------+------------------+----------+-------------+-------------+--------------+---------------+---------------------+-------------------+--------------+------------+----------------------+--------------------------+---------------+-----------------------+------------------------------------+---------------------------+----------------+---------------------------------------+\n",
      "|iso_code|continent|   location|      date|total_cases|new_cases|new_cases_smoothed|total_deaths|new_deaths|new_deaths_smoothed|total_cases_per_million|new_cases_per_million|new_cases_smoothed_per_million|total_deaths_per_million|new_deaths_per_million|new_deaths_smoothed_per_million|reproduction_rate|icu_patients|icu_patients_per_million|hosp_patients|hosp_patients_per_million|weekly_icu_admissions|weekly_icu_admissions_per_million|weekly_hosp_admissions|weekly_hosp_admissions_per_million|total_tests|new_tests|total_tests_per_thousand|new_tests_per_thousand|new_tests_smoothed|new_tests_smoothed_per_thousand|positive_rate|tests_per_case|tests_units|total_vaccinations|people_vaccinated|people_fully_vaccinated|total_boosters|new_vaccinations|new_vaccinations_smoothed|total_vaccinations_per_hundred|people_vaccinated_per_hundred|people_fully_vaccinated_per_hundred|total_boosters_per_hundred|new_vaccinations_smoothed_per_million|new_people_vaccinated_smoothed|new_people_vaccinated_smoothed_per_hundred|stringency_index|population|population_density|median_age|aged_65_older|aged_70_older|gdp_per_capita|extreme_poverty|cardiovasc_death_rate|diabetes_prevalence|female_smokers|male_smokers|handwashing_facilities|hospital_beds_per_thousand|life_expectancy|human_development_index|excess_mortality_cumulative_absolute|excess_mortality_cumulative|excess_mortality|excess_mortality_cumulative_per_million|\n",
      "+--------+---------+-----------+----------+-----------+---------+------------------+------------+----------+-------------------+-----------------------+---------------------+------------------------------+------------------------+----------------------+-------------------------------+-----------------+------------+------------------------+-------------+-------------------------+---------------------+---------------------------------+----------------------+----------------------------------+-----------+---------+------------------------+----------------------+------------------+-------------------------------+-------------+--------------+-----------+------------------+-----------------+-----------------------+--------------+----------------+-------------------------+------------------------------+-----------------------------+-----------------------------------+--------------------------+-------------------------------------+------------------------------+------------------------------------------+----------------+----------+------------------+----------+-------------+-------------+--------------+---------------+---------------------+-------------------+--------------+------------+----------------------+--------------------------+---------------+-----------------------+------------------------------------+---------------------------+----------------+---------------------------------------+\n",
      "|     AFG|     Asia|Afghanistan|2020-02-24|        5.0|      5.0|              null|        null|      null|               null|                  0.125|                0.125|                          null|                    null|                  null|                           null|             null|        null|                    null|         null|                     null|                 null|                             null|                  null|                              null|       null|     null|                    null|                  null|              null|                           null|         null|          null|       null|              null|             null|                   null|          null|            null|                     null|                          null|                         null|                               null|                      null|                                 null|                          null|                                      null|            8.33|40099462.0|            54.422|      18.6|        2.581|        1.337|      1803.987|           null|              597.029|               9.59|          null|        null|                37.746|                       0.5|          64.83|                  0.511|                                null|                       null|            null|                                   null|\n",
      "|     AFG|     Asia|Afghanistan|2020-02-25|        5.0|      0.0|              null|        null|      null|               null|                  0.125|                  0.0|                          null|                    null|                  null|                           null|             null|        null|                    null|         null|                     null|                 null|                             null|                  null|                              null|       null|     null|                    null|                  null|              null|                           null|         null|          null|       null|              null|             null|                   null|          null|            null|                     null|                          null|                         null|                               null|                      null|                                 null|                          null|                                      null|            8.33|40099462.0|            54.422|      18.6|        2.581|        1.337|      1803.987|           null|              597.029|               9.59|          null|        null|                37.746|                       0.5|          64.83|                  0.511|                                null|                       null|            null|                                   null|\n",
      "|     AFG|     Asia|Afghanistan|2020-02-26|        5.0|      0.0|              null|        null|      null|               null|                  0.125|                  0.0|                          null|                    null|                  null|                           null|             null|        null|                    null|         null|                     null|                 null|                             null|                  null|                              null|       null|     null|                    null|                  null|              null|                           null|         null|          null|       null|              null|             null|                   null|          null|            null|                     null|                          null|                         null|                               null|                      null|                                 null|                          null|                                      null|            8.33|40099462.0|            54.422|      18.6|        2.581|        1.337|      1803.987|           null|              597.029|               9.59|          null|        null|                37.746|                       0.5|          64.83|                  0.511|                                null|                       null|            null|                                   null|\n",
      "|     AFG|     Asia|Afghanistan|2020-02-27|        5.0|      0.0|              null|        null|      null|               null|                  0.125|                  0.0|                          null|                    null|                  null|                           null|             null|        null|                    null|         null|                     null|                 null|                             null|                  null|                              null|       null|     null|                    null|                  null|              null|                           null|         null|          null|       null|              null|             null|                   null|          null|            null|                     null|                          null|                         null|                               null|                      null|                                 null|                          null|                                      null|            8.33|40099462.0|            54.422|      18.6|        2.581|        1.337|      1803.987|           null|              597.029|               9.59|          null|        null|                37.746|                       0.5|          64.83|                  0.511|                                null|                       null|            null|                                   null|\n",
      "|     AFG|     Asia|Afghanistan|2020-02-28|        5.0|      0.0|              null|        null|      null|               null|                  0.125|                  0.0|                          null|                    null|                  null|                           null|             null|        null|                    null|         null|                     null|                 null|                             null|                  null|                              null|       null|     null|                    null|                  null|              null|                           null|         null|          null|       null|              null|             null|                   null|          null|            null|                     null|                          null|                         null|                               null|                      null|                                 null|                          null|                                      null|            8.33|40099462.0|            54.422|      18.6|        2.581|        1.337|      1803.987|           null|              597.029|               9.59|          null|        null|                37.746|                       0.5|          64.83|                  0.511|                                null|                       null|            null|                                   null|\n",
      "|     AFG|     Asia|Afghanistan|2020-02-29|        5.0|      0.0|             0.714|        null|      null|               null|                  0.125|                  0.0|                         0.018|                    null|                  null|                           null|             null|        null|                    null|         null|                     null|                 null|                             null|                  null|                              null|       null|     null|                    null|                  null|              null|                           null|         null|          null|       null|              null|             null|                   null|          null|            null|                     null|                          null|                         null|                               null|                      null|                                 null|                          null|                                      null|            8.33|40099462.0|            54.422|      18.6|        2.581|        1.337|      1803.987|           null|              597.029|               9.59|          null|        null|                37.746|                       0.5|          64.83|                  0.511|                                null|                       null|            null|                                   null|\n",
      "|     AFG|     Asia|Afghanistan|2020-03-01|        5.0|      0.0|             0.714|        null|      null|               null|                  0.125|                  0.0|                         0.018|                    null|                  null|                           null|             null|        null|                    null|         null|                     null|                 null|                             null|                  null|                              null|       null|     null|                    null|                  null|              null|                           null|         null|          null|       null|              null|             null|                   null|          null|            null|                     null|                          null|                         null|                               null|                      null|                                 null|                          null|                                      null|           27.78|40099462.0|            54.422|      18.6|        2.581|        1.337|      1803.987|           null|              597.029|               9.59|          null|        null|                37.746|                       0.5|          64.83|                  0.511|                                null|                       null|            null|                                   null|\n",
      "|     AFG|     Asia|Afghanistan|2020-03-02|        5.0|      0.0|               0.0|        null|      null|               null|                  0.125|                  0.0|                           0.0|                    null|                  null|                           null|             null|        null|                    null|         null|                     null|                 null|                             null|                  null|                              null|       null|     null|                    null|                  null|              null|                           null|         null|          null|       null|              null|             null|                   null|          null|            null|                     null|                          null|                         null|                               null|                      null|                                 null|                          null|                                      null|           27.78|40099462.0|            54.422|      18.6|        2.581|        1.337|      1803.987|           null|              597.029|               9.59|          null|        null|                37.746|                       0.5|          64.83|                  0.511|                                null|                       null|            null|                                   null|\n",
      "|     AFG|     Asia|Afghanistan|2020-03-03|        5.0|      0.0|               0.0|        null|      null|               null|                  0.125|                  0.0|                           0.0|                    null|                  null|                           null|             null|        null|                    null|         null|                     null|                 null|                             null|                  null|                              null|       null|     null|                    null|                  null|              null|                           null|         null|          null|       null|              null|             null|                   null|          null|            null|                     null|                          null|                         null|                               null|                      null|                                 null|                          null|                                      null|           27.78|40099462.0|            54.422|      18.6|        2.581|        1.337|      1803.987|           null|              597.029|               9.59|          null|        null|                37.746|                       0.5|          64.83|                  0.511|                                null|                       null|            null|                                   null|\n",
      "|     AFG|     Asia|Afghanistan|2020-03-04|        5.0|      0.0|               0.0|        null|      null|               null|                  0.125|                  0.0|                           0.0|                    null|                  null|                           null|             null|        null|                    null|         null|                     null|                 null|                             null|                  null|                              null|       null|     null|                    null|                  null|              null|                           null|         null|          null|       null|              null|             null|                   null|          null|            null|                     null|                          null|                         null|                               null|                      null|                                 null|                          null|                                      null|           27.78|40099462.0|            54.422|      18.6|        2.581|        1.337|      1803.987|           null|              597.029|               9.59|          null|        null|                37.746|                       0.5|          64.83|                  0.511|                                null|                       null|            null|                                   null|\n",
      "|     AFG|     Asia|Afghanistan|2020-03-05|        5.0|      0.0|               0.0|        null|      null|               null|                  0.125|                  0.0|                           0.0|                    null|                  null|                           null|             null|        null|                    null|         null|                     null|                 null|                             null|                  null|                              null|       null|     null|                    null|                  null|              null|                           null|         null|          null|       null|              null|             null|                   null|          null|            null|                     null|                          null|                         null|                               null|                      null|                                 null|                          null|                                      null|           27.78|40099462.0|            54.422|      18.6|        2.581|        1.337|      1803.987|           null|              597.029|               9.59|          null|        null|                37.746|                       0.5|          64.83|                  0.511|                                null|                       null|            null|                                   null|\n",
      "|     AFG|     Asia|Afghanistan|2020-03-06|        5.0|      0.0|               0.0|        null|      null|               null|                  0.125|                  0.0|                           0.0|                    null|                  null|                           null|             null|        null|                    null|         null|                     null|                 null|                             null|                  null|                              null|       null|     null|                    null|                  null|              null|                           null|         null|          null|       null|              null|             null|                   null|          null|            null|                     null|                          null|                         null|                               null|                      null|                                 null|                          null|                                      null|           27.78|40099462.0|            54.422|      18.6|        2.581|        1.337|      1803.987|           null|              597.029|               9.59|          null|        null|                37.746|                       0.5|          64.83|                  0.511|                                null|                       null|            null|                                   null|\n",
      "|     AFG|     Asia|Afghanistan|2020-03-07|        8.0|      3.0|             0.429|        null|      null|               null|                    0.2|                0.075|                         0.011|                    null|                  null|                           null|             null|        null|                    null|         null|                     null|                 null|                             null|                  null|                              null|       null|     null|                    null|                  null|              null|                           null|         null|          null|       null|              null|             null|                   null|          null|            null|                     null|                          null|                         null|                               null|                      null|                                 null|                          null|                                      null|           27.78|40099462.0|            54.422|      18.6|        2.581|        1.337|      1803.987|           null|              597.029|               9.59|          null|        null|                37.746|                       0.5|          64.83|                  0.511|                                null|                       null|            null|                                   null|\n",
      "|     AFG|     Asia|Afghanistan|2020-03-08|        8.0|      0.0|             0.429|        null|      null|               null|                    0.2|                  0.0|                         0.011|                    null|                  null|                           null|             null|        null|                    null|         null|                     null|                 null|                             null|                  null|                              null|       null|     null|                    null|                  null|              null|                           null|         null|          null|       null|              null|             null|                   null|          null|            null|                     null|                          null|                         null|                               null|                      null|                                 null|                          null|                                      null|           27.78|40099462.0|            54.422|      18.6|        2.581|        1.337|      1803.987|           null|              597.029|               9.59|          null|        null|                37.746|                       0.5|          64.83|                  0.511|                                null|                       null|            null|                                   null|\n",
      "|     AFG|     Asia|Afghanistan|2020-03-09|        8.0|      0.0|             0.429|        null|      null|               null|                    0.2|                  0.0|                         0.011|                    null|                  null|                           null|             null|        null|                    null|         null|                     null|                 null|                             null|                  null|                              null|       null|     null|                    null|                  null|              null|                           null|         null|          null|       null|              null|             null|                   null|          null|            null|                     null|                          null|                         null|                               null|                      null|                                 null|                          null|                                      null|           27.78|40099462.0|            54.422|      18.6|        2.581|        1.337|      1803.987|           null|              597.029|               9.59|          null|        null|                37.746|                       0.5|          64.83|                  0.511|                                null|                       null|            null|                                   null|\n",
      "|     AFG|     Asia|Afghanistan|2020-03-10|        8.0|      0.0|             0.429|        null|      null|               null|                    0.2|                  0.0|                         0.011|                    null|                  null|                           null|             null|        null|                    null|         null|                     null|                 null|                             null|                  null|                              null|       null|     null|                    null|                  null|              null|                           null|         null|          null|       null|              null|             null|                   null|          null|            null|                     null|                          null|                         null|                               null|                      null|                                 null|                          null|                                      null|           27.78|40099462.0|            54.422|      18.6|        2.581|        1.337|      1803.987|           null|              597.029|               9.59|          null|        null|                37.746|                       0.5|          64.83|                  0.511|                                null|                       null|            null|                                   null|\n",
      "|     AFG|     Asia|Afghanistan|2020-03-11|       11.0|      3.0|             0.857|        null|      null|               null|                  0.274|                0.075|                         0.021|                    null|                  null|                           null|             null|        null|                    null|         null|                     null|                 null|                             null|                  null|                              null|       null|     null|                    null|                  null|              null|                           null|         null|          null|       null|              null|             null|                   null|          null|            null|                     null|                          null|                         null|                               null|                      null|                                 null|                          null|                                      null|           27.78|40099462.0|            54.422|      18.6|        2.581|        1.337|      1803.987|           null|              597.029|               9.59|          null|        null|                37.746|                       0.5|          64.83|                  0.511|                                null|                       null|            null|                                   null|\n",
      "|     AFG|     Asia|Afghanistan|2020-03-12|       11.0|      0.0|             0.857|        null|      null|               null|                  0.274|                  0.0|                         0.021|                    null|                  null|                           null|             null|        null|                    null|         null|                     null|                 null|                             null|                  null|                              null|       null|     null|                    null|                  null|              null|                           null|         null|          null|       null|              null|             null|                   null|          null|            null|                     null|                          null|                         null|                               null|                      null|                                 null|                          null|                                      null|           27.78|40099462.0|            54.422|      18.6|        2.581|        1.337|      1803.987|           null|              597.029|               9.59|          null|        null|                37.746|                       0.5|          64.83|                  0.511|                                null|                       null|            null|                                   null|\n",
      "|     AFG|     Asia|Afghanistan|2020-03-13|       11.0|      0.0|             0.857|        null|      null|               null|                  0.274|                  0.0|                         0.021|                    null|                  null|                           null|             null|        null|                    null|         null|                     null|                 null|                             null|                  null|                              null|       null|     null|                    null|                  null|              null|                           null|         null|          null|       null|              null|             null|                   null|          null|            null|                     null|                          null|                         null|                               null|                      null|                                 null|                          null|                                      null|           27.78|40099462.0|            54.422|      18.6|        2.581|        1.337|      1803.987|           null|              597.029|               9.59|          null|        null|                37.746|                       0.5|          64.83|                  0.511|                                null|                       null|            null|                                   null|\n",
      "|     AFG|     Asia|Afghanistan|2020-03-14|       14.0|      3.0|             0.857|        null|      null|               null|                  0.349|                0.075|                         0.021|                    null|                  null|                           null|             null|        null|                    null|         null|                     null|                 null|                             null|                  null|                              null|       null|     null|                    null|                  null|              null|                           null|         null|          null|       null|              null|             null|                   null|          null|            null|                     null|                          null|                         null|                               null|                      null|                                 null|                          null|                                      null|           38.89|40099462.0|            54.422|      18.6|        2.581|        1.337|      1803.987|           null|              597.029|               9.59|          null|        null|                37.746|                       0.5|          64.83|                  0.511|                                null|                       null|            null|                                   null|\n",
      "+--------+---------+-----------+----------+-----------+---------+------------------+------------+----------+-------------------+-----------------------+---------------------+------------------------------+------------------------+----------------------+-------------------------------+-----------------+------------+------------------------+-------------+-------------------------+---------------------+---------------------------------+----------------------+----------------------------------+-----------+---------+------------------------+----------------------+------------------+-------------------------------+-------------+--------------+-----------+------------------+-----------------+-----------------------+--------------+----------------+-------------------------+------------------------------+-----------------------------+-----------------------------------+--------------------------+-------------------------------------+------------------------------+------------------------------------------+----------------+----------+------------------+----------+-------------+-------------+--------------+---------------+---------------------+-------------------+--------------+------------+----------------------+--------------------------+---------------+-----------------------+------------------------------------+---------------------------+----------------+---------------------------------------+\n",
      "only showing top 20 rows\n",
      "\n"
     ]
    }
   ],
   "source": [
    "# Query df using Spark SQL\n",
    "df.createOrReplaceTempView(\"covid\")\n",
    "output = spark.sql(\"SELECT * from covid\")\n",
    "output.show()"
   ]
  },
  {
   "cell_type": "code",
   "execution_count": 14,
   "id": "e3f12915",
   "metadata": {
    "ExecuteTime": {
     "end_time": "2022-10-13T02:40:10.948488Z",
     "start_time": "2022-10-13T02:40:10.801459Z"
    }
   },
   "outputs": [
    {
     "name": "stdout",
     "output_type": "stream",
     "text": [
      "+---------+-----------+----------+-----------+---------+\n",
      "|continent|   location|      date|total_cases|new_cases|\n",
      "+---------+-----------+----------+-----------+---------+\n",
      "|     Asia|Afghanistan|2020-02-24|        5.0|      5.0|\n",
      "|     Asia|Afghanistan|2020-02-25|        5.0|      0.0|\n",
      "|     Asia|Afghanistan|2020-02-26|        5.0|      0.0|\n",
      "|     Asia|Afghanistan|2020-02-27|        5.0|      0.0|\n",
      "|     Asia|Afghanistan|2020-02-28|        5.0|      0.0|\n",
      "|     Asia|Afghanistan|2020-02-29|        5.0|      0.0|\n",
      "|     Asia|Afghanistan|2020-03-01|        5.0|      0.0|\n",
      "|     Asia|Afghanistan|2020-03-02|        5.0|      0.0|\n",
      "|     Asia|Afghanistan|2020-03-03|        5.0|      0.0|\n",
      "|     Asia|Afghanistan|2020-03-04|        5.0|      0.0|\n",
      "|     Asia|Afghanistan|2020-03-05|        5.0|      0.0|\n",
      "|     Asia|Afghanistan|2020-03-06|        5.0|      0.0|\n",
      "|     Asia|Afghanistan|2020-03-07|        8.0|      3.0|\n",
      "|     Asia|Afghanistan|2020-03-08|        8.0|      0.0|\n",
      "|     Asia|Afghanistan|2020-03-09|        8.0|      0.0|\n",
      "|     Asia|Afghanistan|2020-03-10|        8.0|      0.0|\n",
      "|     Asia|Afghanistan|2020-03-11|       11.0|      3.0|\n",
      "|     Asia|Afghanistan|2020-03-12|       11.0|      0.0|\n",
      "|     Asia|Afghanistan|2020-03-13|       11.0|      0.0|\n",
      "|     Asia|Afghanistan|2020-03-14|       14.0|      3.0|\n",
      "+---------+-----------+----------+-----------+---------+\n",
      "only showing top 20 rows\n",
      "\n"
     ]
    }
   ],
   "source": [
    "output = spark.sql('SELECT continent, location, date, total_cases, new_cases from covid WHERE continent IS NOT NULL')\n",
    "output.show()"
   ]
  },
  {
   "cell_type": "code",
   "execution_count": 18,
   "id": "54d2ef25",
   "metadata": {
    "ExecuteTime": {
     "end_time": "2022-10-13T02:42:13.062994Z",
     "start_time": "2022-10-13T02:42:12.424336Z"
    },
    "run_control": {
     "marked": false
    }
   },
   "outputs": [
    {
     "name": "stdout",
     "output_type": "stream",
     "text": [
      "+-------------+------------+\n",
      "|    continent|       total|\n",
      "+-------------+------------+\n",
      "|South America| 6.3976295E7|\n",
      "|      Oceania| 1.2496728E7|\n",
      "|North America| 1.1466352E8|\n",
      "|       Europe|2.31427018E8|\n",
      "|         Asia|1.85327103E8|\n",
      "|       Africa| 1.2346896E7|\n",
      "|         null|2.03122876E9|\n",
      "+-------------+------------+\n",
      "\n"
     ]
    }
   ],
   "source": [
    "output = spark.sql('SELECT continent, SUM(new_cases) as total FROM covid GROUP BY continent ORDER BY continent DESC')\n",
    "output.show()"
   ]
  },
  {
   "cell_type": "markdown",
   "id": "7e3838f8",
   "metadata": {},
   "source": [
    "### Persist data to database"
   ]
  },
  {
   "cell_type": "code",
   "execution_count": 25,
   "id": "a52671c7",
   "metadata": {
    "ExecuteTime": {
     "end_time": "2022-10-13T02:55:19.899079Z",
     "start_time": "2022-10-13T02:55:19.890058Z"
    }
   },
   "outputs": [],
   "source": [
    "# Create a table 'pyspark_covid_data' in postgres using Pyspark\n",
    "dest_tbl = 'public.\"pyspark_covid_data\"'\n",
    "database = 'Covid'\n",
    "password = \"password\" #Input the password accordingly\n",
    "user = \"user\" #Input the user accordingly"
   ]
  },
  {
   "cell_type": "code",
   "execution_count": 26,
   "id": "65901e14",
   "metadata": {
    "ExecuteTime": {
     "end_time": "2022-10-13T02:55:40.119855Z",
     "start_time": "2022-10-13T02:55:20.410459Z"
    }
   },
   "outputs": [],
   "source": [
    "df.write.mode(\"overwrite\") \\\n",
    "    .format(\"jdbc\") \\\n",
    "    .option(\"url\", f\"jdbc:postgresql://localhost:5432/{database}\") \\\n",
    "    .option(\"dbtable\", dest_tbl) \\\n",
    "    .option(\"user\", user) \\\n",
    "    .option(\"password\", password) \\\n",
    "    .option(\"driver\",  \"org.postgresql.Driver\") \\\n",
    "    .save()"
   ]
  }
 ],
 "metadata": {
  "kernelspec": {
   "display_name": "Python 3 (ipykernel)",
   "language": "python",
   "name": "python3"
  },
  "language_info": {
   "codemirror_mode": {
    "name": "ipython",
    "version": 3
   },
   "file_extension": ".py",
   "mimetype": "text/x-python",
   "name": "python",
   "nbconvert_exporter": "python",
   "pygments_lexer": "ipython3",
   "version": "3.9.12"
  },
  "latex_envs": {
   "LaTeX_envs_menu_present": true,
   "autoclose": false,
   "autocomplete": true,
   "bibliofile": "biblio.bib",
   "cite_by": "apalike",
   "current_citInitial": 1,
   "eqLabelWithNumbers": true,
   "eqNumInitial": 1,
   "hotkeys": {
    "equation": "Ctrl-E",
    "itemize": "Ctrl-I"
   },
   "labels_anchors": false,
   "latex_user_defs": false,
   "report_style_numbering": false,
   "user_envs_cfg": false
  },
  "toc": {
   "base_numbering": 1,
   "nav_menu": {},
   "number_sections": true,
   "sideBar": true,
   "skip_h1_title": true,
   "title_cell": "Table of Contents",
   "title_sidebar": "Contents",
   "toc_cell": false,
   "toc_position": {},
   "toc_section_display": true,
   "toc_window_display": true
  }
 },
 "nbformat": 4,
 "nbformat_minor": 5
}
